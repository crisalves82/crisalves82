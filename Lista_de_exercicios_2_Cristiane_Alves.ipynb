{
  "nbformat": 4,
  "nbformat_minor": 0,
  "metadata": {
    "colab": {
      "name": "Lista de exercicios 2 - Cristiane Alves.ipynb",
      "provenance": [],
      "collapsed_sections": [],
      "include_colab_link": true
    },
    "kernelspec": {
      "name": "python3",
      "display_name": "Python 3"
    },
    "language_info": {
      "name": "python"
    }
  },
  "cells": [
    {
      "cell_type": "markdown",
      "metadata": {
        "id": "view-in-github",
        "colab_type": "text"
      },
      "source": [
        "<a href=\"https://colab.research.google.com/github/crisalves82/crisalves82/blob/main/Lista_de_exercicios_2_Cristiane_Alves.ipynb\" target=\"_parent\"><img src=\"https://colab.research.google.com/assets/colab-badge.svg\" alt=\"Open In Colab\"/></a>"
      ]
    },
    {
      "cell_type": "markdown",
      "source": [
        "#Segunda Unidade\n",
        "##2º Lista de exercícios \n",
        "\n",
        "Exercícios com base nas aulas do dia 16/05 e 20/05 e deverá ser enviado até segunda (23/05) antes da aula. Dessa maneira, vocês podem me enviar o link dessa lista respondida (lembrar de autorizar qualquer pessoa com link de visualizar) ou fazer o download do arquivo (Arquivo > Fazer download > Fazer download do .ibynb) e me enviar por e-mail. "
      ],
      "metadata": {
        "id": "55ErYTfbMWZx"
      }
    },
    {
      "cell_type": "code",
      "execution_count": null,
      "metadata": {
        "id": "RdhaWX7CL9Cs",
        "colab": {
          "base_uri": "https://localhost:8080/"
        },
        "outputId": "d0abd291-8a00-425e-8e84-cea0a4a56de9"
      },
      "outputs": [
        {
          "output_type": "stream",
          "name": "stdout",
          "text": [
            " Qual o dia da semana? sabado\n",
            "Hoje é dia de descanso\n"
          ]
        }
      ],
      "source": [
        "#Exercício 1 - Crie uma estrutura que pergunte ao usuário qual o dia da semana. Se o dia for igual a Domingo ou igual a sábado, imprima na tela \"Hoje é dia de descanso\", caso contrário imprima na tela \"Você precisa trabalhar!\"\n",
        "Dia_respondido= input(\" Qual o dia da semana? \")\n",
        "if Dia_respondido== \"sabado\" or Dia_respondido==\"domingo\":\n",
        "  print(\"Hoje é dia de descanso\")\n",
        "else: \n",
        "  print (\"Você precisa trabalhar!\")\n",
        "  \n",
        "  "
      ]
    },
    {
      "cell_type": "code",
      "source": [
        "# Exercício 2 - Imprima a sequência de números pares até 70 (de maneira automatizada)\n",
        "\n",
        "for i in range(2,71,2): \n",
        "  print(i)\n"
      ],
      "metadata": {
        "id": "6foai8ABMh5J",
        "colab": {
          "base_uri": "https://localhost:8080/"
        },
        "outputId": "931d1984-60e3-4c90-8073-f9c630ee62b1"
      },
      "execution_count": null,
      "outputs": [
        {
          "output_type": "stream",
          "name": "stdout",
          "text": [
            "2\n",
            "4\n",
            "6\n",
            "8\n",
            "10\n",
            "12\n",
            "14\n",
            "16\n",
            "18\n",
            "20\n",
            "22\n",
            "24\n",
            "26\n",
            "28\n",
            "30\n",
            "32\n",
            "34\n",
            "36\n",
            "38\n",
            "40\n",
            "42\n",
            "44\n",
            "46\n",
            "48\n",
            "50\n",
            "52\n",
            "54\n",
            "56\n",
            "58\n",
            "60\n",
            "62\n",
            "64\n",
            "66\n",
            "68\n",
            "70\n"
          ]
        }
      ]
    },
    {
      "cell_type": "code",
      "source": [
        "from IPython.core.display import Math\n",
        "# Exercício 3 - Leia um numero fornecido pelo usuario. Se esse numero for positivo, calcule a raiz quadrada do numero. \n",
        "#Se o numero for negativo, mostre uma mensagem dizendo que o numero é invalido\n",
        "\n",
        "import math\n",
        "numero=int(input( 'numero:' ))\n",
        "\n",
        "if  numero  >  0 :\n",
        "    print(math.sqrt ( numero ))\n",
        "elif  numero  <=  0 :\n",
        "    print ( \"numero é inválido\" )\n"
      ],
      "metadata": {
        "id": "YAu7pVMgQjhP",
        "colab": {
          "base_uri": "https://localhost:8080/"
        },
        "outputId": "8bc409e2-0002-49be-a8c4-3feea0eaefd8"
      },
      "execution_count": null,
      "outputs": [
        {
          "output_type": "stream",
          "name": "stdout",
          "text": [
            "numero:-60\n",
            "numero é inválido\n"
          ]
        }
      ]
    },
    {
      "cell_type": "code",
      "source": [
        "# Exercício 4 - Faça um programa que conte quantas vezes a letra \"e\" aparece na frase abaixo. \n",
        "# \"Receba! e o melhor do mundo! Graças a deus pai!\"\n",
        "\n",
        "frase = \"Receba! e o melhor do mundo! Graças a deus pai!\"\n",
        "frase.count(\"e\")\n",
        "print(\"A frase tem um total de letra e de:\", frase.count(\"e\"))\n"
      ],
      "metadata": {
        "id": "9zrwvBO4QuKn",
        "colab": {
          "base_uri": "https://localhost:8080/"
        },
        "outputId": "8a8a219e-7759-4e2a-ddd9-a0b4209d1077"
      },
      "execution_count": null,
      "outputs": [
        {
          "output_type": "stream",
          "name": "stdout",
          "text": [
            "A frase tem um total de letra e de: 5\n"
          ]
        }
      ]
    },
    {
      "cell_type": "code",
      "source": [
        "# Exercício 5 - Faça um programa que receba um numero inteiro e verifique se este numero é par ou ımpar (imprima a resposta)\n",
        "numero  =  int ( input ( \"numero:\" ))\n",
        "result  =  numero % 2\n",
        "\n",
        "if  result  ==  0 :\n",
        "  print ( \"numero é par\" )\n",
        "elif  result  ==  1 :\n",
        "  print ( \"numero é impar\" )\n"
      ],
      "metadata": {
        "id": "dOcAfeCXRCyN",
        "colab": {
          "base_uri": "https://localhost:8080/"
        },
        "outputId": "c7d57ea1-f144-42b0-a1d9-a65410ac1bf6"
      },
      "execution_count": null,
      "outputs": [
        {
          "output_type": "stream",
          "name": "stdout",
          "text": [
            "numero:15\n",
            "numero é impar\n"
          ]
        }
      ]
    },
    {
      "cell_type": "code",
      "source": [
        "# Exercício 6 - Faça um programa que receba do usuario as seguintes informações: o salario e o valor da prestacao de um emprestimo. \n",
        "#Se a prestação for maior que 20% do salário imprima: Empréstimo não concedido, caso contrario imprima: Empréstimo concedido\n",
        "\n",
        "salario  =   float (input ( \"valor do Salário:\" ))\n",
        "prestação  =   float(input ( \"Valor da prestaçao:\" ))\n",
        "emprestimo  =  float (salario / 0.20)\n",
        "print (emprestimo)\n",
        "if  emprestimo > prestação :\n",
        "  print ( 'Emprestimo concedido!' )\n",
        "else :\n",
        "  print ( 'Empréstimo não concedido!' )\n"
      ],
      "metadata": {
        "id": "BgiHb42sRUCx",
        "colab": {
          "base_uri": "https://localhost:8080/"
        },
        "outputId": "e07dcb6b-de83-43df-a38c-fcc3d6987ba0"
      },
      "execution_count": null,
      "outputs": [
        {
          "output_type": "stream",
          "name": "stdout",
          "text": [
            "valor do Salário:1500\n",
            "Valor da prestaçao:300\n",
            "7500.0\n",
            "Emprestimo concedido!\n"
          ]
        }
      ]
    },
    {
      "cell_type": "code",
      "source": [
        "# Exercício 7 - Escreva um programa que não saia do loop enquanto o usuário não digitar corretamente a senha, \n",
        "#além disso quando o usuário errar imprima a seguinte mensagem: \"dica de senha: campeão brasileiro em 1987\"\n",
        "senha = \"sport\"\n",
        "Qual_senha = input(\"Digite a senha \")\n",
        "\n",
        "while senha != Qual_senha: \n",
        "  print(\"dica de senha: campeão brasileiro em 1987\")\n",
        "  Qual_senha = input(\"tente novamente\")\n",
        "  print(\"Parabéns, você acertou a senha\")\n",
        "\n"
      ],
      "metadata": {
        "id": "IU9QamZpSVSn",
        "colab": {
          "base_uri": "https://localhost:8080/"
        },
        "outputId": "d97c1379-047d-4591-fba3-fa1099909aba"
      },
      "execution_count": null,
      "outputs": [
        {
          "output_type": "stream",
          "name": "stdout",
          "text": [
            "Digite a senha vasco\n",
            "dica de senha: campeão brasileiro em 1987\n",
            "tente novamenteflamengo\n",
            "Parabéns, você acertou a senha\n",
            "dica de senha: campeão brasileiro em 1987\n",
            "tente novamentesport\n",
            "Parabéns, você acertou a senha\n"
          ]
        }
      ]
    },
    {
      "cell_type": "code",
      "source": [
        "#Exercício 8 - Faça uma calculadora das quatro principais operações, na qual você pedirá ao usuário dois números e \n",
        "#qual operação matemática será feita, com base nessas informações você deve imprimir a resposta.\n",
        "\n",
        "n1 = int(input(\"Digite o primeiro numero:\" ))\n",
        "n2 = int(input(\"Digite o segundo numero:\"))\n",
        "operacao = input(\"Qual Operação matemática ( soma,subtração,multiplicação ou divisão:\")\n",
        "\n",
        "if operacao == 'soma':\n",
        "    print('n1 + n2 = '.format(n1, n2))\n",
        "    print(n1 + n2)\n",
        "\n",
        "elif operacao == 'subtração':\n",
        "    print('n1 - n2 = '.format(n1, n2))\n",
        "    print(n1 - n2)\n",
        "\n",
        "elif operacao == 'multiplicação':\n",
        "    print('n1 * n2 = '.format(n1, n2))\n",
        "    print(n1 * n2)\n",
        "\n",
        "elif operacao == 'divisão':\n",
        "    print('n1 / n2 = '.format(n1, n2))\n",
        "    print(n1 / n2)\n",
        "\n"
      ],
      "metadata": {
        "id": "HsfvqQQgMwIk",
        "colab": {
          "base_uri": "https://localhost:8080/"
        },
        "outputId": "d995ff22-cf61-4ba4-cd22-46e977819aa8"
      },
      "execution_count": null,
      "outputs": [
        {
          "output_type": "stream",
          "name": "stdout",
          "text": [
            "Digite o primeiro numero:5\n",
            "Digite o segundo numero:5\n",
            "Qual Operação matemática ( soma,subtração,multiplicação ou divisão:divisão\n",
            "n1 / n2 = \n",
            "1.0\n"
          ]
        }
      ]
    }
  ]
}