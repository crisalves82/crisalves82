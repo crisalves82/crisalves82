{
  "nbformat": 4,
  "nbformat_minor": 0,
  "metadata": {
    "colab": {
      "name": "Lista de exercícios 1 - Cristiane Alves.ipynb",
      "provenance": [],
      "include_colab_link": true
    },
    "kernelspec": {
      "name": "python3",
      "display_name": "Python 3"
    },
    "language_info": {
      "name": "python"
    }
  },
  "cells": [
    {
      "cell_type": "markdown",
      "metadata": {
        "id": "view-in-github",
        "colab_type": "text"
      },
      "source": [
        "<a href=\"https://colab.research.google.com/github/crisalves82/crisalves82/blob/main/Lista_de_exerc%C3%ADcios_1_Cristiane_Alves.ipynb\" target=\"_parent\"><img src=\"https://colab.research.google.com/assets/colab-badge.svg\" alt=\"Open In Colab\"/></a>"
      ]
    },
    {
      "cell_type": "markdown",
      "source": [
        "#Segunda Unidade\n",
        "##1º Lista de exercícios \n",
        "\n",
        "Exercícios com base na aula presencial do dia 09/05 e deverá ser enviado até domingo (15/05). Dessa maneira, vocês podem me enviar o link dessa lista respondida (lembrar de autorizar qualquer pessoa com link de visualizar) ou fazer o download do arquivo (Arquivo > Fazer download > Fazer download do .ibynb) e me enviar por e-mail. \n"
      ],
      "metadata": {
        "id": "nVoKMnfvI72n"
      }
    },
    {
      "cell_type": "code",
      "execution_count": null,
      "metadata": {
        "id": "ZDmoaSRsItAx",
        "colab": {
          "base_uri": "https://localhost:8080/"
        },
        "outputId": "38326ea5-a46f-4fe1-cc8a-81f2659a3eed"
      },
      "outputs": [
        {
          "output_type": "execute_result",
          "data": {
            "text/plain": [
              "['1', '2', '3', '4', '5', '6', '7', '8', '9']"
            ]
          },
          "metadata": {},
          "execution_count": 6
        }
      ],
      "source": [
        "# Exercício 1 - Imprima na tela os números de 1 a 10. Use uma lista para armazenar os números.\n",
        "Numeros = ['1', '2', '3', '4','5','6','7','8','9']\n",
        "Numeros\n"
      ]
    },
    {
      "cell_type": "code",
      "source": [
        "# Exercício 2 - Crie uma lista de 5 objetos e imprima na tela\n",
        "Objetos=['bola', 'patins', 'brinco', 'esmalte','chaves']\n",
        "print(Objetos) "
      ],
      "metadata": {
        "id": "RFab4ia4OU_I",
        "colab": {
          "base_uri": "https://localhost:8080/"
        },
        "outputId": "4992731d-b6b2-4eca-e591-fb5b60518fd1"
      },
      "execution_count": null,
      "outputs": [
        {
          "output_type": "stream",
          "name": "stdout",
          "text": [
            "['bola', 'patins', 'brinco', 'esmalte', 'chaves']\n"
          ]
        }
      ]
    },
    {
      "cell_type": "code",
      "source": [
        "# Exercício 3 - Crie duas strings e concatene as duas em uma terceira string (com um espaço entre elas)\n",
        "'Chamamos de ética o conjunto de coisas que as pessoas fazem quando todos estão olhando.' "
      ],
      "metadata": {
        "id": "vDvKHdX_OZcI",
        "colab": {
          "base_uri": "https://localhost:8080/",
          "height": 35
        },
        "outputId": "7934fce3-cf22-4477-978f-6067c64a54a7"
      },
      "execution_count": null,
      "outputs": [
        {
          "output_type": "execute_result",
          "data": {
            "text/plain": [
              "'Chamamos de ética o conjunto de coisas que as pessoas fazem quando todos estão olhando.'"
            ],
            "application/vnd.google.colaboratory.intrinsic+json": {
              "type": "string"
            }
          },
          "metadata": {},
          "execution_count": 13
        }
      ]
    },
    {
      "cell_type": "code",
      "source": [
        "'O conjunto de coisas que as pessoas fazem quando ninguém está olhando chamamos de caráter.'"
      ],
      "metadata": {
        "colab": {
          "base_uri": "https://localhost:8080/",
          "height": 35
        },
        "id": "nYl4olLnbSj5",
        "outputId": "8081605c-09e2-4c55-d85d-11b9e0acef5c"
      },
      "execution_count": null,
      "outputs": [
        {
          "output_type": "execute_result",
          "data": {
            "text/plain": [
              "'O conjunto de coisas que as pessoas fazem quando ninguém está olhando chamamos de caráter.'"
            ],
            "application/vnd.google.colaboratory.intrinsic+json": {
              "type": "string"
            }
          },
          "metadata": {},
          "execution_count": 12
        }
      ]
    },
    {
      "cell_type": "code",
      "source": [
        "'Chamamos de ética o conjunto de coisas que as pessoas fazem quando todos estão olhando.',' O conjunto de coisas que as pessoas fazem quando ninguém está olhando chamamos de caráter.'"
      ],
      "metadata": {
        "colab": {
          "base_uri": "https://localhost:8080/"
        },
        "id": "rYv1ulN2blaA",
        "outputId": "4bf03acb-1632-45e2-df57-7ab00396b927"
      },
      "execution_count": null,
      "outputs": [
        {
          "output_type": "execute_result",
          "data": {
            "text/plain": [
              "('Chamamos de ética o conjunto de coisas que as pessoas fazem quando todos estão olhando.',\n",
              " ' O conjunto de coisas que as pessoas fazem quando ninguém está olhando chamamos de caráter.')"
            ]
          },
          "metadata": {},
          "execution_count": 17
        }
      ]
    },
    {
      "cell_type": "code",
      "source": [
        "# Exercício 4 - Crie uma lista de 4 elementos. O primeiro elemento deve ser uma string, \n",
        "# o segundo um inteiro, o terceiro um float e quarto um booleano.\n",
        "# Imprima a lista na tela.\n",
        "print('vamos q vamos') \n",
        "print(9) \n",
        "print ('9.5')\n",
        "print(5==6)\n",
        "\n",
        "\n"
      ],
      "metadata": {
        "id": "QYTz08AqOfat",
        "colab": {
          "base_uri": "https://localhost:8080/"
        },
        "outputId": "89e2b5b2-a7a1-4f9a-b7e8-8c578e93ac73"
      },
      "execution_count": null,
      "outputs": [
        {
          "output_type": "stream",
          "name": "stdout",
          "text": [
            "vamos q vamos\n",
            "9\n",
            "9.5\n",
            "False\n"
          ]
        }
      ]
    },
    {
      "cell_type": "code",
      "source": [
        "# Exercício 5 - Considere a string abaixo. Imprima na tela apenas o nome \"atuaria\".\n",
        "curso = \"ciências atuariais\"\n",
        "curso [9:20]"
      ],
      "metadata": {
        "id": "mMX_QUOHOzPH",
        "colab": {
          "base_uri": "https://localhost:8080/",
          "height": 35
        },
        "outputId": "c7faae9e-e800-424b-ff2c-7cc28283eaf2"
      },
      "execution_count": null,
      "outputs": [
        {
          "output_type": "execute_result",
          "data": {
            "text/plain": [
              "'atuariais'"
            ],
            "application/vnd.google.colaboratory.intrinsic+json": {
              "type": "string"
            }
          },
          "metadata": {},
          "execution_count": 22
        }
      ]
    },
    {
      "cell_type": "code",
      "source": [
        "# Exercício 6 - Crie uma variável tipo inteira e converta para tipo float.\n",
        "a=15\n",
        "print (float(a))"
      ],
      "metadata": {
        "id": "SPnxIsk5PCKF",
        "colab": {
          "base_uri": "https://localhost:8080/"
        },
        "outputId": "e8e70d8f-b1b0-4bb3-f330-4ef236424166"
      },
      "execution_count": null,
      "outputs": [
        {
          "output_type": "stream",
          "name": "stdout",
          "text": [
            "15.0\n"
          ]
        }
      ]
    },
    {
      "cell_type": "code",
      "source": [
        "# Exercício 7 - Faça uma divisão retornando um número inteiro como resultado\n",
        "650//7"
      ],
      "metadata": {
        "id": "qIuT8G9SXbFg",
        "colab": {
          "base_uri": "https://localhost:8080/"
        },
        "outputId": "fd437834-f59f-4575-bcbb-d28cc910f58d"
      },
      "execution_count": null,
      "outputs": [
        {
          "output_type": "execute_result",
          "data": {
            "text/plain": [
              "92"
            ]
          },
          "metadata": {},
          "execution_count": 1
        }
      ]
    },
    {
      "cell_type": "code",
      "source": [
        "# Exercício 8 - Imprima a frase \"Palmeiras não tem mundial\" cinco vezes, através de código e sem digitar mais de uma vez a frase. \n",
        "b= 'Palmeiras não tem mundial,'\n",
        "print (b*5) "
      ],
      "metadata": {
        "id": "nPPJFNCePqVV",
        "colab": {
          "base_uri": "https://localhost:8080/"
        },
        "outputId": "7cb2b5c1-5a6c-4ca5-9c1f-215210de10c1"
      },
      "execution_count": null,
      "outputs": [
        {
          "output_type": "stream",
          "name": "stdout",
          "text": [
            "Palmeiras não tem mundial,Palmeiras não tem mundial,Palmeiras não tem mundial,Palmeiras não tem mundial,Palmeiras não tem mundial,\n"
          ]
        }
      ]
    },
    {
      "cell_type": "code",
      "source": [
        "# Exercício 9 - Crie cada uma das 5 classes de variaveis ensinadas e imprima o tipo da variavel (sem escrever o nome da variável).\n",
        "\n"
      ],
      "metadata": {
        "id": "apbbPBGvTv5V"
      },
      "execution_count": null,
      "outputs": []
    },
    {
      "cell_type": "code",
      "source": [
        "# Exercício 10 - Dada a lista de compras abaixo, substitua maças por bananas \n",
        "listadomercado =[\"ovos\", \"farinha\", \"leite\", \"maças\"]\n",
        "listadomercado[3]=\"bananas\"\n",
        "print(listadomercado)"
      ],
      "metadata": {
        "id": "Wfp2TNc-QMC3",
        "colab": {
          "base_uri": "https://localhost:8080/"
        },
        "outputId": "62545aff-05ae-487c-c031-b18ca56ac20b"
      },
      "execution_count": null,
      "outputs": [
        {
          "output_type": "stream",
          "name": "stdout",
          "text": [
            "['ovos', 'farinha', 'leite', 'bananas']\n"
          ]
        }
      ]
    },
    {
      "cell_type": "code",
      "source": [
        "# Exercício 11 - Print a lista de compras abaixo, sem o item \"ovos\" \n",
        "listadomercado = [\"ovos\", \"farinha\", \"leite\", \"maças\"]\n",
        "listadomercado[1:4]"
      ],
      "metadata": {
        "id": "Kl_dEZhJS1P1",
        "colab": {
          "base_uri": "https://localhost:8080/"
        },
        "outputId": "809a1379-f849-4335-e738-6185e24bcd33"
      },
      "execution_count": null,
      "outputs": [
        {
          "output_type": "execute_result",
          "data": {
            "text/plain": [
              "['farinha', 'leite', 'maças']"
            ]
          },
          "metadata": {},
          "execution_count": 62
        }
      ]
    },
    {
      "cell_type": "code",
      "source": [
        "# Exercício 12 - Dada a lista de compras abaixo, adicione cerveja, carne e carvão (#sextou) e imprima a nova lista.\n",
        "listadomercado = [\"ovos\", \"farinha\", \"leite\", \"maças\"]\n",
        "listadomercado1= [\"cerveja\",\"carne\",\"carvão\",\"(#sextou)\"]\n",
        "nova_lista=listadomercado+listadomercado1\n",
        "print(nova_lista)"
      ],
      "metadata": {
        "id": "Ysb9Hj1QSN5U",
        "colab": {
          "base_uri": "https://localhost:8080/"
        },
        "outputId": "8ac45216-caed-4df2-f058-6348dab8d8eb"
      },
      "execution_count": null,
      "outputs": [
        {
          "output_type": "stream",
          "name": "stdout",
          "text": [
            "['ovos', 'farinha', 'leite', 'maças', 'cerveja', 'carne', 'carvão', '(#sextou)']\n"
          ]
        }
      ]
    },
    {
      "cell_type": "code",
      "source": [
        "# Exercício 13 - Print a lista de compras abaixo, sem o item \"farinha\" \n",
        "listadomercado = [\"ovos\", \"farinha\", \"leite\", \"maças\"]\n",
        "del(listadomercado[1])\n",
        "print(listadomercado)"
      ],
      "metadata": {
        "id": "143bXMzWTeVo",
        "colab": {
          "base_uri": "https://localhost:8080/"
        },
        "outputId": "c3d076d4-2079-4061-819a-4d7fb4eaea14"
      },
      "execution_count": null,
      "outputs": [
        {
          "output_type": "stream",
          "name": "stdout",
          "text": [
            "['ovos', 'leite', 'maças']\n"
          ]
        }
      ]
    },
    {
      "cell_type": "code",
      "source": [
        "# Exercício 14 - Arredonde a variável x para 1.\n",
        "x = 9 / 10\n",
        "round(x)\n"
      ],
      "metadata": {
        "id": "wNDwedAgX3AW",
        "colab": {
          "base_uri": "https://localhost:8080/"
        },
        "outputId": "4829b238-e33e-47c2-a837-dd8bb80184aa"
      },
      "execution_count": null,
      "outputs": [
        {
          "output_type": "execute_result",
          "data": {
            "text/plain": [
              "1"
            ]
          },
          "metadata": {},
          "execution_count": 33
        }
      ]
    }
  ]
}